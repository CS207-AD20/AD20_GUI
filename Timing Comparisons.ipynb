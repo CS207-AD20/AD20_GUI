{
 "cells": [
  {
   "cell_type": "code",
   "execution_count": 1,
   "metadata": {
    "collapsed": true
   },
   "outputs": [],
   "source": [
    "from ADnum_rev import ADnum\n",
    "import ADmath_rev as ADmath\n",
    "import matplotlib.pyplot as plt\n",
    "%matplotlib inline\n",
    "\n",
    "from timeit import default_timer as timer"
   ]
  },
  {
   "cell_type": "code",
   "execution_count": 2,
   "metadata": {
    "collapsed": true
   },
   "outputs": [],
   "source": [
    "def speelpenning(N, v):\n",
    "    inputs = [None]*N\n",
    "    inputs[0] = ADnum(1, ins = N, ind = 0)\n",
    "    f = inputs[0]\n",
    "    for i in range(1, N):\n",
    "        inputs[i] = ADnum(i, ins=N, ind=i)\n",
    "        f = f*inputs[i]**v\n",
    "    return f, inputs"
   ]
  },
  {
   "cell_type": "code",
   "execution_count": 13,
   "metadata": {
    "collapsed": true
   },
   "outputs": [],
   "source": [
    "def getrev(ins, func):\n",
    "    for inputvar in ins:\n",
    "        inputvar.revder(func)"
   ]
  },
  {
   "cell_type": "code",
   "execution_count": 14,
   "metadata": {
    "collapsed": true
   },
   "outputs": [],
   "source": [
    "Ns = [1, 2, 4, 8, 16, 32]"
   ]
  },
  {
   "cell_type": "code",
   "execution_count": 21,
   "metadata": {},
   "outputs": [
    {
     "data": {
      "text/plain": [
       "Text(0, 0.5, 'Time')"
      ]
     },
     "execution_count": 21,
     "metadata": {},
     "output_type": "execute_result"
    },
    {
     "data": {
      "image/png": "[encoded data removed]",
      "text/plain": [
       "<Figure size 432x288 with 1 Axes>"
      ]
     },
     "metadata": {},
     "output_type": "display_data"
    }
   ],
   "source": [
    "#speelpenning timings\n",
    "forwardtimes = [None]*len(Ns)\n",
    "revtimes = [None]*len(Ns)\n",
    "\n",
    "for i, N in enumerate(Ns):\n",
    "    startf = timer()\n",
    "    f, inputs = speelpenning(N, 1)\n",
    "    endf = timer()\n",
    "    \n",
    "    startr = timer()\n",
    "    getrev(inputs, f)\n",
    "    endr = timer()\n",
    "    \n",
    "    forwardtimes[i] =  endf-startf\n",
    "    revtimes[i] = endr-startr\n",
    "    \n",
    "plt.plot(Ns, forwardtimes, label = 'Forward')\n",
    "plt.plot(Ns, revtimes, label = 'Reverse')\n",
    "plt.legend()\n",
    "plt.xlabel('Number of Inputs')\n",
    "plt.ylabel('Time')\n",
    "    "
   ]
  },
  {
   "cell_type": "code",
   "execution_count": 16,
   "metadata": {
    "collapsed": true
   },
   "outputs": [],
   "source": [
    "def speelpenningModified(inputs, v):\n",
    "    f = inputs[0]**v\n",
    "    for i in range(1, len(inputs)):\n",
    "        f = f*inputs[i]**v\n",
    "    return f"
   ]
  },
  {
   "cell_type": "code",
   "execution_count": 22,
   "metadata": {},
   "outputs": [
    {
     "data": {
      "text/plain": [
       "Text(0, 0.5, 'Time')"
      ]
     },
     "execution_count": 22,
     "metadata": {},
     "output_type": "execute_result"
    },
    {
     "data": {
      "image/png": "[encoded data removed]",
      "text/plain": [
       "<Figure size 432x288 with 1 Axes>"
      ]
     },
     "metadata": {},
     "output_type": "display_data"
    }
   ],
   "source": [
    "Ms = [1, 2, 4, 8, 16, 32]\n",
    "\n",
    "\n",
    "forwardtimes = [None]*len(Ms)\n",
    "revtimes = [None]*len(Ms)\n",
    "\n",
    "for j, M in enumerate(Ms):\n",
    "    forward = 0\n",
    "    reverse = 0\n",
    "    F = [None]*M\n",
    "    \n",
    "    for i in range(M):\n",
    "        inputs = [None]*4\n",
    "        inputs[0] = ADnum(1, ins = 4, ind = 0)\n",
    "        for k in range(1, 4):\n",
    "            inputs[k] = ADnum(k, ins=4, ind=k)\n",
    "    \n",
    "        startf = timer()\n",
    "        F[i] = speelpenningModified(inputs, i+1)\n",
    "        endf = timer()\n",
    "        forward = forward + (endf-startf)\n",
    "        \n",
    "        startr = timer()\n",
    "        getrev(inputs, F[i])\n",
    "        endr = timer()\n",
    "        reverse = reverse + (endr-startr)\n",
    "    forwardtimes[j]=forward\n",
    "    revtimes[j] = reverse\n",
    "        \n",
    "plt.plot(Ms, forwardtimes, label = 'Forward')\n",
    "plt.plot(Ms, revtimes, label = 'Reverse')\n",
    "plt.legend()\n",
    "plt.xlabel('Number of Functions')\n",
    "plt.ylabel('Time')\n",
    "        "
   ]
  },
  {
   "cell_type": "code",
   "execution_count": null,
   "metadata": {
    "collapsed": true
   },
   "outputs": [],
   "source": []
  }
 ],
 "metadata": {
  "kernelspec": {
   "display_name": "Python 3",
   "language": "python",
   "name": "python3"
  },
  "language_info": {
   "codemirror_mode": {
    "name": "ipython",
    "version": 3
   },
   "file_extension": ".py",
   "mimetype": "text/x-python",
   "name": "python",
   "nbconvert_exporter": "python",
   "pygments_lexer": "ipython3",
   "version": "3.6.6"
  }
 },
 "nbformat": 4,
 "nbformat_minor": 2
}
