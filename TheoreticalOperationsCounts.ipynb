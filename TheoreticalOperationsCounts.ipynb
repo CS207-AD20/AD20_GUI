{
 "cells": [
  {
   "cell_type": "code",
   "execution_count": 1,
   "metadata": {
    "collapsed": true
   },
   "outputs": [],
   "source": [
    "from ADnum_rev import ADnum\n",
    "import ADmath_rev as ADmath"
   ]
  },
  {
   "cell_type": "code",
   "execution_count": 2,
   "metadata": {
    "collapsed": true
   },
   "outputs": [],
   "source": [
    "x = ADnum(3, ins=1, ind = 0)\n",
    "F = [2*x**2-ADmath.sin(x), ADmath.cos(x)-ADmath.log(x)]"
   ]
  },
  {
   "cell_type": "code",
   "execution_count": 3,
   "metadata": {},
   "outputs": [
    {
     "name": "stdout",
     "output_type": "stream",
     "text": [
      "Coded:8\n",
      "Theoretical:10\n"
     ]
    }
   ],
   "source": [
    "print('Coded:' + str(F[0].ops))\n",
    "print('Theoretical:' + str(F[0].tfops))"
   ]
  },
  {
   "cell_type": "code",
   "execution_count": 4,
   "metadata": {},
   "outputs": [
    {
     "name": "stdout",
     "output_type": "stream",
     "text": [
      "Coded:6\n",
      "Theoretical:7\n"
     ]
    }
   ],
   "source": [
    "print('Coded:' + str(F[1].ops))\n",
    "print('Theoretical:' + str(F[1].tfops))"
   ]
  },
  {
   "cell_type": "code",
   "execution_count": 5,
   "metadata": {},
   "outputs": [
    {
     "name": "stdout",
     "output_type": "stream",
     "text": [
      "Coded:5\n",
      "Theoretical:14\n"
     ]
    }
   ],
   "source": [
    "print('Coded:' + str(x.revder(F[0])[1]))\n",
    "print('Theoretical:' + str(F[0].trops))"
   ]
  },
  {
   "cell_type": "code",
   "execution_count": 6,
   "metadata": {
    "collapsed": true
   },
   "outputs": [],
   "source": [
    "x = ADnum(3, ins=1, ind = 0)\n",
    "F = [2*x**2-ADmath.sin(x), ADmath.cos(x)-ADmath.log(x)]"
   ]
  },
  {
   "cell_type": "code",
   "execution_count": 7,
   "metadata": {},
   "outputs": [
    {
     "name": "stdout",
     "output_type": "stream",
     "text": [
      "Coded:10\n",
      "Theoretical:10\n"
     ]
    }
   ],
   "source": [
    "print('Coded:' + str(x.revder(F[1])[1]))\n",
    "print('Theoretical:' + str(F[1].trops))"
   ]
  },
  {
   "cell_type": "code",
   "execution_count": null,
   "metadata": {
    "collapsed": true
   },
   "outputs": [],
   "source": [
    "#there is some issue where counted gets set so that can't evaluate multiple times"
   ]
  },
  {
   "cell_type": "code",
   "execution_count": 8,
   "metadata": {
    "collapsed": true
   },
   "outputs": [],
   "source": [
    "x = ADnum(4, ins=3, ind=0)\n",
    "y = ADnum(5, ins=3, ind=1)\n",
    "z = ADnum(2, ins=3, ind=2)\n",
    "\n",
    "f = ADmath.log(x*y)-ADmath.sin(x*z)"
   ]
  },
  {
   "cell_type": "code",
   "execution_count": 9,
   "metadata": {},
   "outputs": [
    {
     "name": "stdout",
     "output_type": "stream",
     "text": [
      "Coded:11\n",
      "Theoretical:31\n"
     ]
    }
   ],
   "source": [
    "print('Coded:' + str(f.ops))\n",
    "print('Theoretical:' + str(f.tfops))"
   ]
  },
  {
   "cell_type": "code",
   "execution_count": null,
   "metadata": {
    "collapsed": true
   },
   "outputs": [],
   "source": [
    "#Forward Mode\n",
    "#2 multiplications (3*3 operations) + 2 nonlinear function evaluations (2+1*3), 1 subtraction(1*3) = 31 forward operations"
   ]
  },
  {
   "cell_type": "code",
   "execution_count": null,
   "metadata": {
    "collapsed": true
   },
   "outputs": [],
   "source": [
    "#Reverse Mode\n",
    "#2 multiplications (4*3 operations) + 2 nonlinear function evaluations (2+2*3), 1 subtraction(2*3) = 46 reverse operations"
   ]
  },
  {
   "cell_type": "code",
   "execution_count": 10,
   "metadata": {},
   "outputs": [
    {
     "name": "stdout",
     "output_type": "stream",
     "text": [
      "Coded:12\n",
      "Coded:6\n",
      "Coded:6\n",
      "Theoretical:46\n"
     ]
    }
   ],
   "source": [
    "print('Coded:' + str(x.revder(f)[1]))\n",
    "print('Coded:' + str(y.revder(f)[1]))\n",
    "print('Coded:' + str(z.revder(f)[1]))\n",
    "print('Theoretical:' + str(f.trops))"
   ]
  },
  {
   "cell_type": "code",
   "execution_count": null,
   "metadata": {
    "collapsed": true
   },
   "outputs": [],
   "source": [
    "#code is currently undercounting multiple inputs"
   ]
  },
  {
   "cell_type": "code",
   "execution_count": null,
   "metadata": {
    "collapsed": true
   },
   "outputs": [],
   "source": [
    "#theoretical does not find that reverse is better...somehow miscoded theory?"
   ]
  },
  {
   "cell_type": "code",
   "execution_count": null,
   "metadata": {
    "collapsed": true
   },
   "outputs": [],
   "source": [
    "#small examples"
   ]
  },
  {
   "cell_type": "code",
   "execution_count": 11,
   "metadata": {},
   "outputs": [
    {
     "name": "stdout",
     "output_type": "stream",
     "text": [
      "Coded:1\n",
      "Theoretical:1\n",
      "Coded Reverse:4\n",
      "Theoretical Reverse:2\n"
     ]
    }
   ],
   "source": [
    "s = ADnum(1, ind=0, ins =1)\n",
    "t = s+s\n",
    "\n",
    "print('Coded:'+str(t.ops))\n",
    "print('Theoretical:'+str(t.tfops))\n",
    "print('Coded Reverse:'+str(s.revder(t)[1]))\n",
    "print('Theoretical Reverse:'+str(t.trops))"
   ]
  },
  {
   "cell_type": "code",
   "execution_count": 12,
   "metadata": {},
   "outputs": [
    {
     "name": "stdout",
     "output_type": "stream",
     "text": [
      "Coded:3\n",
      "Theoretical:3\n",
      "Coded Reverse:4\n",
      "Theoretical Reverse:4\n"
     ]
    }
   ],
   "source": [
    "s = ADnum(1, ind=0, ins =1)\n",
    "t = s*s\n",
    "\n",
    "print('Coded:'+str(t.ops))\n",
    "print('Theoretical:'+str(t.tfops))\n",
    "print('Coded Reverse:'+str(s.revder(t)[1]))\n",
    "print('Theoretical Reverse:'+str(t.trops))"
   ]
  },
  {
   "cell_type": "code",
   "execution_count": 13,
   "metadata": {},
   "outputs": [
    {
     "name": "stdout",
     "output_type": "stream",
     "text": [
      "Coded:2\n",
      "Theoretical:3\n",
      "Coded Reverse:3\n",
      "Theoretical Reverse:4\n"
     ]
    }
   ],
   "source": [
    "s = ADnum(1, ind=0, ins =1)\n",
    "t = ADmath.sin(s)\n",
    "\n",
    "print('Coded:'+str(t.ops))\n",
    "print('Theoretical:'+str(t.tfops))\n",
    "print('Coded Reverse:'+str(s.revder(t)[1]))\n",
    "print('Theoretical Reverse:'+str(t.trops))"
   ]
  },
  {
   "cell_type": "code",
   "execution_count": 14,
   "metadata": {},
   "outputs": [
    {
     "name": "stdout",
     "output_type": "stream",
     "text": [
      "Coded:2\n",
      "Theoretical:3\n",
      "Coded Reverse:3\n",
      "Theoretical Reverse:4\n"
     ]
    }
   ],
   "source": [
    "s = ADnum(1, ind=0, ins =1)\n",
    "t = ADmath.log(s)\n",
    "\n",
    "print('Coded:'+str(t.ops))\n",
    "print('Theoretical:'+str(t.tfops))\n",
    "print('Coded Reverse:'+str(s.revder(t)[1]))\n",
    "print('Theoretical Reverse:'+str(t.trops))"
   ]
  },
  {
   "cell_type": "code",
   "execution_count": 15,
   "metadata": {},
   "outputs": [
    {
     "name": "stdout",
     "output_type": "stream",
     "text": [
      "Coded:10\n",
      "Theoretical:10\n",
      "Coded Reverse:10\n",
      "Theoretical Reverse:14\n"
     ]
    }
   ],
   "source": [
    "s = ADnum(1, ind=0, ins =1)\n",
    "t = ADmath.tan(s)+ADmath.sin(s)*s\n",
    "\n",
    "print('Coded:'+str(t.ops))\n",
    "print('Theoretical:'+str(t.tfops))\n",
    "print('Coded Reverse:'+str(s.revder(t)[1]))\n",
    "print('Theoretical Reverse:'+str(t.trops))"
   ]
  },
  {
   "cell_type": "code",
   "execution_count": 16,
   "metadata": {
    "collapsed": true
   },
   "outputs": [],
   "source": [
    "x = ADnum(1, ins =2, ind =0)\n",
    "y = ADnum(1, ins=2, ind=1)\n",
    "\n",
    "f = ADmath.sin(x)+x*y"
   ]
  },
  {
   "cell_type": "code",
   "execution_count": 17,
   "metadata": {},
   "outputs": [
    {
     "data": {
      "text/plain": [
       "12"
      ]
     },
     "execution_count": 17,
     "metadata": {},
     "output_type": "execute_result"
    }
   ],
   "source": [
    "f.tfops"
   ]
  },
  {
   "cell_type": "code",
   "execution_count": 18,
   "metadata": {},
   "outputs": [
    {
     "data": {
      "text/plain": [
       "18"
      ]
     },
     "execution_count": 18,
     "metadata": {},
     "output_type": "execute_result"
    }
   ],
   "source": [
    "f.trops"
   ]
  },
  {
   "cell_type": "code",
   "execution_count": 25,
   "metadata": {
    "collapsed": true
   },
   "outputs": [],
   "source": [
    "h = ADnum(1, ins =3, ind =0)\n",
    "i = ADnum(1, ins=3, ind=1)\n",
    "j = ADnum(1, ins =3, ind=2)\n",
    "\n",
    "k = h*i*j+i*j"
   ]
  },
  {
   "cell_type": "code",
   "execution_count": 26,
   "metadata": {},
   "outputs": [
    {
     "data": {
      "text/plain": [
       "30"
      ]
     },
     "execution_count": 26,
     "metadata": {},
     "output_type": "execute_result"
    }
   ],
   "source": [
    "k.tfops"
   ]
  },
  {
   "cell_type": "code",
   "execution_count": 27,
   "metadata": {},
   "outputs": [
    {
     "data": {
      "text/plain": [
       "42"
      ]
     },
     "execution_count": 27,
     "metadata": {},
     "output_type": "execute_result"
    }
   ],
   "source": [
    "k.trops"
   ]
  },
  {
   "cell_type": "code",
   "execution_count": null,
   "metadata": {
    "collapsed": true
   },
   "outputs": [],
   "source": []
  }
 ],
 "metadata": {
  "kernelspec": {
   "display_name": "Python 3",
   "language": "python",
   "name": "python3"
  },
  "language_info": {
   "codemirror_mode": {
    "name": "ipython",
    "version": 3
   },
   "file_extension": ".py",
   "mimetype": "text/x-python",
   "name": "python",
   "nbconvert_exporter": "python",
   "pygments_lexer": "ipython3",
   "version": "3.6.6"
  }
 },
 "nbformat": 4,
 "nbformat_minor": 2
}
