{
 "cells": [
  {
   "cell_type": "code",
   "execution_count": 1,
   "metadata": {
    "collapsed": true
   },
   "outputs": [],
   "source": [
    "from ADnum_rev import ADnum\n",
    "import ADmath_rev as ADmath"
   ]
  },
  {
   "cell_type": "code",
   "execution_count": 7,
   "metadata": {},
   "outputs": [],
   "source": [
    "x = ADnum(3, ins=1, ind = 0)\n",
    "F = [2*x**2-ADmath.sin(x), ADmath.cos(x)-ADmath.log(x)]"
   ]
  },
  {
   "cell_type": "code",
   "execution_count": 3,
   "metadata": {},
   "outputs": [
    {
     "name": "stdout",
     "output_type": "stream",
     "text": [
      "Coded:8\n",
      "Theoretical:10\n"
     ]
    }
   ],
   "source": [
    "print('Coded:' + str(F[0].ops))\n",
    "print('Theoretical:' + str(F[0].tfops))"
   ]
  },
  {
   "cell_type": "code",
   "execution_count": 4,
   "metadata": {},
   "outputs": [
    {
     "name": "stdout",
     "output_type": "stream",
     "text": [
      "Coded:6\n",
      "Theoretical:7\n"
     ]
    }
   ],
   "source": [
    "print('Coded:' + str(F[1].ops))\n",
    "print('Theoretical:' + str(F[1].tfops))"
   ]
  },
  {
   "cell_type": "code",
   "execution_count": 5,
   "metadata": {},
   "outputs": [
    {
     "name": "stdout",
     "output_type": "stream",
     "text": [
      "Coded:5\n",
      "Theoretical:14\n"
     ]
    }
   ],
   "source": [
    "print('Coded:' + str(x.revder(F[0])[1]))\n",
    "print('Theoretical:' + str(F[0].trops))"
   ]
  },
  {
   "cell_type": "code",
   "execution_count": 8,
   "metadata": {},
   "outputs": [
    {
     "name": "stdout",
     "output_type": "stream",
     "text": [
      "Coded:10\n",
      "Theoretical:10\n"
     ]
    }
   ],
   "source": [
    "print('Coded:' + str(x.revder(F[1])[1]))\n",
    "print('Theoretical:' + str(F[1].trops))"
   ]
  },
  {
   "cell_type": "code",
   "execution_count": null,
   "metadata": {
    "collapsed": true
   },
   "outputs": [],
   "source": [
    "#there is some issue where counted gets set so that can't evaluate multiple times"
   ]
  },
  {
   "cell_type": "code",
   "execution_count": 9,
   "metadata": {
    "collapsed": true
   },
   "outputs": [],
   "source": [
    "x = ADnum(4, ins=3, ind=0)\n",
    "y = ADnum(5, ins=3, ind=1)\n",
    "z = ADnum(2, ins=3, ind=2)\n",
    "\n",
    "f = ADmath.log(x*y)-ADmath.sin(x*z)"
   ]
  },
  {
   "cell_type": "code",
   "execution_count": 10,
   "metadata": {},
   "outputs": [
    {
     "name": "stdout",
     "output_type": "stream",
     "text": [
      "Coded:11\n",
      "Theoretical:31\n"
     ]
    }
   ],
   "source": [
    "print('Coded:' + str(f.ops))\n",
    "print('Theoretical:' + str(f.tfops))"
   ]
  },
  {
   "cell_type": "code",
   "execution_count": 11,
   "metadata": {},
   "outputs": [
    {
     "name": "stdout",
     "output_type": "stream",
     "text": [
      "Coded:12\n",
      "Coded:6\n",
      "Coded:6\n",
      "Theoretical:46\n"
     ]
    }
   ],
   "source": [
    "print('Coded:' + str(x.revder(f)[1]))\n",
    "print('Coded:' + str(y.revder(f)[1]))\n",
    "print('Coded:' + str(z.revder(f)[1]))\n",
    "print('Theoretical:' + str(f.trops))"
   ]
  },
  {
   "cell_type": "code",
   "execution_count": null,
   "metadata": {
    "collapsed": true
   },
   "outputs": [],
   "source": [
    "#code is currently undercounting multiple inputs"
   ]
  },
  {
   "cell_type": "code",
   "execution_count": null,
   "metadata": {
    "collapsed": true
   },
   "outputs": [],
   "source": [
    "#theoretical does not find that reverse is better...somehow miscoded theory?"
   ]
  }
 ],
 "metadata": {
  "kernelspec": {
   "display_name": "Python 3",
   "language": "python",
   "name": "python3"
  },
  "language_info": {
   "codemirror_mode": {
    "name": "ipython",
    "version": 3
   },
   "file_extension": ".py",
   "mimetype": "text/x-python",
   "name": "python",
   "nbconvert_exporter": "python",
   "pygments_lexer": "ipython3",
   "version": "3.6.6"
  }
 },
 "nbformat": 4,
 "nbformat_minor": 2
}
