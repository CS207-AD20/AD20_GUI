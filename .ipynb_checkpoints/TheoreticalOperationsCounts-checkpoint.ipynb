{
 "cells": [
  {
   "cell_type": "code",
   "execution_count": 1,
   "metadata": {
    "collapsed": true
   },
   "outputs": [],
   "source": [
    "from ADnum_rev import ADnum\n",
    "import ADmath_rev as ADmath\n",
    "\n",
    "from timeit import default_timer as timer"
   ]
  },
  {
   "cell_type": "code",
   "execution_count": 3,
   "metadata": {},
   "outputs": [
    {
     "name": "stdout",
     "output_type": "stream",
     "text": [
      "Forward time:0.0004973815370732382\n"
     ]
    }
   ],
   "source": [
    "startf = timer()\n",
    "x = ADnum(3, ins=1, ind = 0)\n",
    "F = [2*x**2-ADmath.sin(x), ADmath.cos(x)-ADmath.log(x)]\n",
    "endf = timer()\n",
    "\n",
    "print('Forward time:' + str(endf-startf))"
   ]
  },
  {
   "cell_type": "code",
   "execution_count": 8,
   "metadata": {},
   "outputs": [
    {
     "name": "stdout",
     "output_type": "stream",
     "text": [
      "Reverse time:0.00027180182485153637\n"
     ]
    }
   ],
   "source": [
    "x = ADnum(3, ins=1, ind = 0)\n",
    "F = [2*x**2-ADmath.sin(x), ADmath.cos(x)-ADmath.log(x)]\n",
    "\n",
    "start1 = timer()\n",
    "x.revder(F[0])\n",
    "end1 = timer()\n",
    "\n",
    "x = ADnum(3, ins=1, ind = 0)\n",
    "F = [2*x**2-ADmath.sin(x), ADmath.cos(x)-ADmath.log(x)]\n",
    "\n",
    "start2 = timer()\n",
    "x.revder(F[1])\n",
    "end2 = timer()\n",
    "\n",
    "print('Reverse time:' + str(end1-start1+end2-start2))\n"
   ]
  },
  {
   "cell_type": "code",
   "execution_count": 3,
   "metadata": {
    "scrolled": true
   },
   "outputs": [
    {
     "name": "stdout",
     "output_type": "stream",
     "text": [
      "Coded:8\n",
      "Theoretical:10\n"
     ]
    }
   ],
   "source": [
    "print('Coded:' + str(F[0].ops))\n",
    "print('Theoretical:' + str(F[0].tfops))"
   ]
  },
  {
   "cell_type": "code",
   "execution_count": 4,
   "metadata": {},
   "outputs": [
    {
     "name": "stdout",
     "output_type": "stream",
     "text": [
      "Coded:6\n",
      "Theoretical:7\n"
     ]
    }
   ],
   "source": [
    "print('Coded:' + str(F[1].ops))\n",
    "print('Theoretical:' + str(F[1].tfops))"
   ]
  },
  {
   "cell_type": "code",
   "execution_count": 4,
   "metadata": {},
   "outputs": [
    {
     "name": "stdout",
     "output_type": "stream",
     "text": [
      "Coded:5\n",
      "Theoretical:14\n"
     ]
    }
   ],
   "source": [
    "print('Coded:' + str(x.revder(F[0])[1]))\n",
    "print('Theoretical:' + str(F[0].trops))"
   ]
  },
  {
   "cell_type": "code",
   "execution_count": 7,
   "metadata": {},
   "outputs": [
    {
     "name": "stdout",
     "output_type": "stream",
     "text": [
      "Coded:10\n",
      "Theoretical:10\n"
     ]
    }
   ],
   "source": [
    "print('Coded:' + str(x.revder(F[1])[1]))\n",
    "print('Theoretical:' + str(F[1].trops))"
   ]
  },
  {
   "cell_type": "code",
   "execution_count": null,
   "metadata": {
    "collapsed": true
   },
   "outputs": [],
   "source": [
    "#there is some issue where counted gets set so that can't evaluate multiple times"
   ]
  },
  {
   "cell_type": "code",
   "execution_count": 15,
   "metadata": {},
   "outputs": [
    {
     "name": "stdout",
     "output_type": "stream",
     "text": [
      "Forward Time:0.0002623203657776685\n",
      "Reverse Time:0.00011338244735270564\n"
     ]
    }
   ],
   "source": [
    "x = ADnum(4, ins=3, ind=0)\n",
    "y = ADnum(5, ins=3, ind=1)\n",
    "z = ADnum(2, ins=3, ind=2)\n",
    "\n",
    "startf = timer()\n",
    "f = ADmath.log(x*y)-ADmath.sin(x*z)\n",
    "endf = timer()\n",
    "\n",
    "startr = timer()\n",
    "x.revder(f)\n",
    "y.revder(f)\n",
    "z.revder(f)\n",
    "endr = timer()\n",
    "\n",
    "print('Forward Time:' + str(endf-startf))\n",
    "print('Reverse Time:' + str(endr-startr))"
   ]
  },
  {
   "cell_type": "code",
   "execution_count": 13,
   "metadata": {},
   "outputs": [
    {
     "name": "stdout",
     "output_type": "stream",
     "text": [
      "Forward Time:0.00022044392187581252\n",
      "Reverse Time:7.348130736772873e-05\n"
     ]
    }
   ],
   "source": [
    "x = ADnum(4, ins=2, ind=0)\n",
    "y = ADnum(5, ins=2, ind=1)\n",
    "\n",
    "startf = timer()\n",
    "f = (x+y)**2\n",
    "endf = timer()\n",
    "\n",
    "startr = timer()\n",
    "x.revder(f)\n",
    "y.revder(f)\n",
    "endr = timer()\n",
    "\n",
    "print('Forward Time:' + str(endf-startf))\n",
    "print('Reverse Time:' + str(endr-startr))"
   ]
  },
  {
   "cell_type": "code",
   "execution_count": 9,
   "metadata": {},
   "outputs": [
    {
     "name": "stdout",
     "output_type": "stream",
     "text": [
      "Coded:11\n",
      "Theoretical:31\n"
     ]
    }
   ],
   "source": [
    "print('Coded:' + str(f.ops))\n",
    "print('Theoretical:' + str(f.tfops))"
   ]
  },
  {
   "cell_type": "code",
   "execution_count": 16,
   "metadata": {},
   "outputs": [
    {
     "name": "stdout",
     "output_type": "stream",
     "text": [
      "Forward Time:0.00034923374016671005\n",
      "Reverse Time:6.558009147283883e-05\n"
     ]
    }
   ],
   "source": [
    "s = ADnum(1, ind=0, ins =1)\n",
    "\n",
    "startf = timer()\n",
    "t = ADmath.tan(s)+ADmath.sin(s)*s\n",
    "endf = timer()\n",
    "\n",
    "startr = timer()\n",
    "s.revder(t)\n",
    "endr = timer()\n",
    "\n",
    "print('Forward Time:' + str(endf-startf))\n",
    "print('Reverse Time:' + str(endr-startr))"
   ]
  },
  {
   "cell_type": "code",
   "execution_count": null,
   "metadata": {
    "collapsed": true
   },
   "outputs": [],
   "source": [
    "#Forward Mode\n",
    "#2 multiplications (3*3 operations) + 2 nonlinear function evaluations (2+1*3), 1 subtraction(1*3) = 31 forward operations"
   ]
  },
  {
   "cell_type": "code",
   "execution_count": null,
   "metadata": {
    "collapsed": true
   },
   "outputs": [],
   "source": [
    "#Reverse Mode\n",
    "#2 multiplications (4*3 operations) + 2 nonlinear function evaluations (2+2*3), 1 subtraction(2*3) = 46 reverse operations"
   ]
  },
  {
   "cell_type": "code",
   "execution_count": 10,
   "metadata": {},
   "outputs": [
    {
     "name": "stdout",
     "output_type": "stream",
     "text": [
      "Coded:12\n",
      "Coded:6\n",
      "Coded:6\n",
      "Theoretical:46\n"
     ]
    }
   ],
   "source": [
    "print('Coded:' + str(x.revder(f)[1]))\n",
    "print('Coded:' + str(y.revder(f)[1]))\n",
    "print('Coded:' + str(z.revder(f)[1]))\n",
    "print('Theoretical:' + str(f.trops))"
   ]
  },
  {
   "cell_type": "code",
   "execution_count": null,
   "metadata": {
    "collapsed": true
   },
   "outputs": [],
   "source": [
    "#code is currently undercounting multiple inputs"
   ]
  },
  {
   "cell_type": "code",
   "execution_count": null,
   "metadata": {
    "collapsed": true
   },
   "outputs": [],
   "source": [
    "#theoretical does not find that reverse is better...somehow miscoded theory?"
   ]
  },
  {
   "cell_type": "code",
   "execution_count": null,
   "metadata": {
    "collapsed": true
   },
   "outputs": [],
   "source": [
    "#small examples"
   ]
  },
  {
   "cell_type": "code",
   "execution_count": 17,
   "metadata": {},
   "outputs": [
    {
     "name": "stdout",
     "output_type": "stream",
     "text": [
      "Forward Time:0.00011851823751385382\n",
      "Reverse Time:4.661717366616358e-05\n"
     ]
    }
   ],
   "source": [
    "s = ADnum(1, ind=0, ins =1)\n",
    "\n",
    "startf = timer()\n",
    "t = s+s\n",
    "endf = timer()\n",
    "\n",
    "startr = timer()\n",
    "s.revder(t)\n",
    "endr = timer()\n",
    "\n",
    "print('Forward Time:' + str(endf-startf))\n",
    "print('Reverse Time:' + str(endr-startr))"
   ]
  },
  {
   "cell_type": "code",
   "execution_count": 11,
   "metadata": {},
   "outputs": [
    {
     "name": "stdout",
     "output_type": "stream",
     "text": [
      "Coded:1\n",
      "Theoretical:1\n",
      "Coded Reverse:4\n",
      "Theoretical Reverse:2\n"
     ]
    }
   ],
   "source": [
    "s = ADnum(1, ind=0, ins =1)\n",
    "t = s+s\n",
    "\n",
    "print('Coded:'+str(t.ops))\n",
    "print('Theoretical:'+str(t.tfops))\n",
    "print('Coded Reverse:'+str(s.revder(t)[1]))\n",
    "print('Theoretical Reverse:'+str(t.trops))"
   ]
  },
  {
   "cell_type": "code",
   "execution_count": 12,
   "metadata": {},
   "outputs": [
    {
     "name": "stdout",
     "output_type": "stream",
     "text": [
      "Coded:3\n",
      "Theoretical:3\n",
      "Coded Reverse:4\n",
      "Theoretical Reverse:4\n"
     ]
    }
   ],
   "source": [
    "s = ADnum(1, ind=0, ins =1)\n",
    "t = s*s\n",
    "\n",
    "print('Coded:'+str(t.ops))\n",
    "print('Theoretical:'+str(t.tfops))\n",
    "print('Coded Reverse:'+str(s.revder(t)[1]))\n",
    "print('Theoretical Reverse:'+str(t.trops))"
   ]
  },
  {
   "cell_type": "code",
   "execution_count": 18,
   "metadata": {},
   "outputs": [
    {
     "name": "stdout",
     "output_type": "stream",
     "text": [
      "Forward Time:0.00010034544129666756\n",
      "Reverse Time:7.427142895721772e-05\n"
     ]
    }
   ],
   "source": [
    "s = ADnum(1, ind=0, ins =1)\n",
    "\n",
    "startf = timer()\n",
    "t = s*s\n",
    "endf = timer()\n",
    "\n",
    "startr = timer()\n",
    "s.revder(t)\n",
    "endr = timer()\n",
    "\n",
    "print('Forward Time:' + str(endf-startf))\n",
    "print('Reverse Time:' + str(endr-startr))"
   ]
  },
  {
   "cell_type": "code",
   "execution_count": 13,
   "metadata": {},
   "outputs": [
    {
     "name": "stdout",
     "output_type": "stream",
     "text": [
      "Coded:2\n",
      "Theoretical:3\n",
      "Coded Reverse:3\n",
      "Theoretical Reverse:4\n"
     ]
    }
   ],
   "source": [
    "s = ADnum(1, ind=0, ins =1)\n",
    "t = ADmath.sin(s)\n",
    "\n",
    "print('Coded:'+str(t.ops))\n",
    "print('Theoretical:'+str(t.tfops))\n",
    "print('Coded Reverse:'+str(s.revder(t)[1]))\n",
    "print('Theoretical Reverse:'+str(t.trops))"
   ]
  },
  {
   "cell_type": "code",
   "execution_count": 19,
   "metadata": {},
   "outputs": [
    {
     "name": "stdout",
     "output_type": "stream",
     "text": [
      "Forward Time:0.00015802431676092965\n",
      "Reverse Time:8.098746229734388e-05\n"
     ]
    }
   ],
   "source": [
    "s = ADnum(1, ind=0, ins =1)\n",
    "\n",
    "startf = timer()\n",
    "t = ADmath.log(s)\n",
    "endf = timer()\n",
    "\n",
    "startr = timer()\n",
    "s.revder(t)\n",
    "endr = timer()\n",
    "\n",
    "print('Forward Time:' + str(endf-startf))\n",
    "print('Reverse Time:' + str(endr-startr))"
   ]
  },
  {
   "cell_type": "code",
   "execution_count": 14,
   "metadata": {},
   "outputs": [
    {
     "name": "stdout",
     "output_type": "stream",
     "text": [
      "Coded:2\n",
      "Theoretical:3\n",
      "Coded Reverse:3\n",
      "Theoretical Reverse:4\n"
     ]
    }
   ],
   "source": [
    "s = ADnum(1, ind=0, ins =1)\n",
    "t = ADmath.log(s)\n",
    "\n",
    "print('Coded:'+str(t.ops))\n",
    "print('Theoretical:'+str(t.tfops))\n",
    "print('Coded Reverse:'+str(s.revder(t)[1]))\n",
    "print('Theoretical Reverse:'+str(t.trops))"
   ]
  },
  {
   "cell_type": "code",
   "execution_count": 15,
   "metadata": {},
   "outputs": [
    {
     "name": "stdout",
     "output_type": "stream",
     "text": [
      "Coded:10\n",
      "Theoretical:10\n",
      "Coded Reverse:10\n",
      "Theoretical Reverse:14\n"
     ]
    }
   ],
   "source": [
    "s = ADnum(1, ind=0, ins =1)\n",
    "t = ADmath.tan(s)+ADmath.sin(s)*s\n",
    "\n",
    "print('Coded:'+str(t.ops))\n",
    "print('Theoretical:'+str(t.tfops))\n",
    "print('Coded Reverse:'+str(s.revder(t)[1]))\n",
    "print('Theoretical Reverse:'+str(t.trops))"
   ]
  },
  {
   "cell_type": "code",
   "execution_count": 16,
   "metadata": {
    "collapsed": true
   },
   "outputs": [],
   "source": [
    "x = ADnum(1, ins =2, ind =0)\n",
    "y = ADnum(1, ins=2, ind=1)\n",
    "\n",
    "f = ADmath.sin(x)+x*y"
   ]
  },
  {
   "cell_type": "code",
   "execution_count": 17,
   "metadata": {},
   "outputs": [
    {
     "data": {
      "text/plain": [
       "12"
      ]
     },
     "execution_count": 17,
     "metadata": {},
     "output_type": "execute_result"
    }
   ],
   "source": [
    "f.tfops"
   ]
  },
  {
   "cell_type": "code",
   "execution_count": 18,
   "metadata": {},
   "outputs": [
    {
     "data": {
      "text/plain": [
       "18"
      ]
     },
     "execution_count": 18,
     "metadata": {},
     "output_type": "execute_result"
    }
   ],
   "source": [
    "f.trops"
   ]
  },
  {
   "cell_type": "code",
   "execution_count": 25,
   "metadata": {
    "collapsed": true
   },
   "outputs": [],
   "source": [
    "h = ADnum(1, ins =3, ind =0)\n",
    "i = ADnum(1, ins=3, ind=1)\n",
    "j = ADnum(1, ins =3, ind=2)\n",
    "\n",
    "k = h*i*j+i*j"
   ]
  },
  {
   "cell_type": "code",
   "execution_count": 26,
   "metadata": {},
   "outputs": [
    {
     "data": {
      "text/plain": [
       "30"
      ]
     },
     "execution_count": 26,
     "metadata": {},
     "output_type": "execute_result"
    }
   ],
   "source": [
    "k.tfops"
   ]
  },
  {
   "cell_type": "code",
   "execution_count": 27,
   "metadata": {},
   "outputs": [
    {
     "data": {
      "text/plain": [
       "42"
      ]
     },
     "execution_count": 27,
     "metadata": {},
     "output_type": "execute_result"
    }
   ],
   "source": [
    "k.trops"
   ]
  },
  {
   "cell_type": "code",
   "execution_count": null,
   "metadata": {
    "collapsed": true
   },
   "outputs": [],
   "source": [
    "#examples on pg 65, differentiation, product (pg 3), linear solvers\n",
    "#tables fixed inputs vs. fixed functions\n",
    "#dense linear systems"
   ]
  },
  {
   "cell_type": "code",
   "execution_count": 21,
   "metadata": {
    "collapsed": true
   },
   "outputs": [],
   "source": [
    "import numpy as np"
   ]
  },
  {
   "cell_type": "code",
   "execution_count": 44,
   "metadata": {},
   "outputs": [],
   "source": [
    "A = np.array([[1, 2], [3, 4]])\n",
    "x = ADnum(np.array([[2], [2]]), der = np.array([[1], [1]]))"
   ]
  },
  {
   "cell_type": "code",
   "execution_count": 45,
   "metadata": {},
   "outputs": [],
   "source": [
    "F = np.array([1, 1])*x"
   ]
  },
  {
   "cell_type": "code",
   "execution_count": 46,
   "metadata": {},
   "outputs": [
    {
     "data": {
      "text/plain": [
       "array([[ 1.],\n",
       "       [ 1.]])"
      ]
     },
     "execution_count": 46,
     "metadata": {},
     "output_type": "execute_result"
    }
   ],
   "source": [
    "F[0].der"
   ]
  },
  {
   "cell_type": "code",
   "execution_count": null,
   "metadata": {
    "collapsed": true
   },
   "outputs": [],
   "source": [
    "#randomized product with different exponent in each component"
   ]
  }
 ],
 "metadata": {
  "kernelspec": {
   "display_name": "Python 3",
   "language": "python",
   "name": "python3"
  },
  "language_info": {
   "codemirror_mode": {
    "name": "ipython",
    "version": 3
   },
   "file_extension": ".py",
   "mimetype": "text/x-python",
   "name": "python",
   "nbconvert_exporter": "python",
   "pygments_lexer": "ipython3",
   "version": "3.6.6"
  }
 },
 "nbformat": 4,
 "nbformat_minor": 2
}
