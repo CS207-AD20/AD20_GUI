{
 "cells": [
  {
   "cell_type": "markdown",
   "metadata": {},
   "source": [
    "# Developer Documentation\n",
    "\n",
    "Documentation for use of the ADnum, ADmath, and ADgraph modules outside of the web application.\n",
    "\n",
    "## What are the ADnum, ADmath, and ADgraph modules?\n",
    "This collection of modules can be used to perform automatic differentiation of functions of one or more variables and to visualize the underlying computational graph and table for both the forward and reverse mode of automatic differentiation."
   ]
  },
  {
   "cell_type": "markdown",
   "metadata": {},
   "source": [
    "## Introduction to Automatic Differentiation\n",
    "\n",
    "Differentiation is a fundamental operation for computational science. Used in a variety of applications from optimization to sensitivity analysis, differentiation is most useful when two conditions are met: it must be exact (up to machine precision) and computationally efficient.\n",
    "\n",
    "Automatic differentiation (AD) (i.e. algorithmic differentiation, computational differentiation) computes the derivative of a function, unique for its ability to handle complex combinations of functions without sacrificing the accuracy. Regardless of how complex the function may be, AD takes advantage of the fact that the function can be decomposed into a sequence of elementary arithmetic operations (addition, subtraction, multiplication, division, etc.) and elementary functions (exp, log, sin, cos, etc.). \n",
    "\n",
    "Through computing the derivatives of these basic elementary functions and repeatedly applying the chain rule, AD meets the two aforementioned conditions, making it useful in a variety of applications including:\n",
    "- Machine learning (ability to understand data and make models/predictions), where backpropagation is used to parameterize neural nets among other parameter optimization techniques\n",
    "- Parameter optimization (ability to choose best parameter values under given conditions), where methods requiring derivatives may be used to find the optima\n",
    "- Sensitivity analysis (ability to understand different factors and their impact), which requires computing partial derivatives with respect to different inputs and parameters\n",
    "- Physical modeling (ability to visualize and depict data through models), where different physical properties are related through derivatives (for example, acceleration is the derivative of velocity)\n",
    "- Probabilistic inference, where many sampling methods (for example, Hamiltonian Monte Carlo) are derivative based\n",
    "\n",
    "For a more detailed exposition of AD and the underlying processes, we invite you to read our unit on [Read the Docs](https://auto-ed.readthedocs.io/en/latest/) and use the accompanying web application built from this package."
   ]
  },
  {
   "cell_type": "markdown",
   "metadata": {},
   "source": [
    "## Installation\n",
    "\n",
    "The files can be downloaded from the github repository using:\n",
    "\n",
    "    git clone https://github.com/lindseysbrown/Auto-eD.git\n",
    "\n",
    "To install package dependencies, run the following command:\n",
    "\n",
    "    pip install -r requirements.txt\n",
    "\n",
    "For those not interested in developing the code or working with functions of more than 5 input variables or more than 3 outputs, the computations performed by this package are available as a [web application](https://autoed.herokuapp.com/) without any installation required.  Alternatively, to run the web application locally, the following command will launch the application from the cloned repository:\n",
    "\n",
    "    python ADapp.py"
   ]
  },
  {
   "cell_type": "markdown",
   "metadata": {},
   "source": [
    "## Importing the Modules\n",
    "   \n",
    "For full functionality, the user should include the following imports to use the automatic differentiation package:\n",
    "\n",
    "    from ADnum import ADnum\n",
    "    \n",
    "    import ADmath\n",
    "\n",
    "    import ADgraph"
   ]
  },
  {
   "cell_type": "code",
   "execution_count": 1,
   "metadata": {},
   "outputs": [
    {
     "data": {
      "text/plain": [
       "'C:\\\\Users\\\\Lindsey\\\\Documents\\\\lindsey\\\\Harvard G4\\\\FallSemester\\\\CS207Teaching\\\\Auto-eD'"
      ]
     },
     "execution_count": 1,
     "metadata": {},
     "output_type": "execute_result"
    }
   ],
   "source": [
    "#commands to change to the correct directory\n",
    "%pwd "
   ]
  },
  {
   "cell_type": "code",
   "execution_count": 2,
   "metadata": {
    "collapsed": true
   },
   "outputs": [],
   "source": [
    "#import package functionality\n",
    "from ADnum import ADnum\n",
    "import ADmath\n",
    "import ADgraph\n",
    "\n",
    "#suggested imports\n",
    "import numpy as np\n",
    "import matplotlib.pyplot as plt\n",
    "%matplotlib inline"
   ]
  },
  {
   "cell_type": "markdown",
   "metadata": {},
   "source": [
    "## Getting Started\n",
    "After importing the necessary modules, a user creates a class instance of an `ADnum` with the value to be used as input to a function.\n",
    "\n",
    "### Steps for Instantiating Variables and Functions\n",
    "\n",
    "#### 1. Initialize an input variable (i.e. `x`) with the specific value where the function will be evaluated.\n",
    "- Either initialize the value and the derivative\n",
    "\n",
    "```python\n",
    "\n",
    "x = ADnum(5, der = 1)\n",
    "\n",
    "```\n",
    "\n",
    "- Or specify the number of input variables (ins) to the function and the index (ind) of each variable\n",
    "\n",
    "```python\n",
    "x = ADnum(5, ins = 1, ind = 0)\n",
    "```\n",
    "\n",
    "#### 2. Define a function (i.e. `f`) with the variable and any other elementary functions from the ADmath module\n",
    "- Either directly combine previously created ADnum objects\n",
    "\n",
    "```python\n",
    "f = ADmath.sin(x)+3*ADmath.tan(x)\n",
    "```\n",
    "\n",
    "-Or define a function and provide an ADnum object as input\n",
    "```python\n",
    "def g(z):\n",
    "    return ADmath.sin(z)+3*ADmath.tan(z)\n",
    "g(x) #an ADnum\n",
    "```\n",
    "\n",
    "####    3. `f.val` will return the value of the function evaluated at the specific value\n",
    "####    4. `f.der` will return the derivative at the specific value\n",
    "####    5.  Visualize f and the computational process using the tools in the `ADgraph` module\n",
    "-See the section on function visualization for more on how to use these tools.\n",
    "\n",
    "Full code examples for scalar or vector inputs and scalar or vectored valued functions are given below."
   ]
  },
  {
   "cell_type": "markdown",
   "metadata": {},
   "source": [
    "### Scalar Function of a Scalar Variable\n",
    "\n",
    "Here we show several examples of scalar functions of scalar variables, including an example of using our package to implement Newton's Method. "
   ]
  },
  {
   "cell_type": "code",
   "execution_count": 3,
   "metadata": {},
   "outputs": [
    {
     "name": "stdout",
     "output_type": "stream",
     "text": [
      "26.0\n",
      "[12.  2.]\n",
      "3.0\n",
      "[1. 0.]\n",
      "4.0\n",
      "[0. 1.]\n"
     ]
    }
   ],
   "source": [
    "# Step 1: intialize x and y to a specific value\n",
    "x = ADnum(3, ins = 2, ind = 0) \n",
    "y = ADnum(4, ins = 2, ind= 1)\n",
    "\n",
    "# Step 2: define a function f\n",
    "f = 2 * y + 2*x**2\n",
    "\n",
    "# Steps 3 and 4: Use the class attributes to access the value and \n",
    "# deriviative of the function at the value of the input x \n",
    "\n",
    "print(f.val) \n",
    "print(f.der) \n",
    "print(x.val)\n",
    "print(x.der) \n",
    "print(y.val)\n",
    "print(y.der)\n"
   ]
  },
  {
   "cell_type": "code",
   "execution_count": 4,
   "metadata": {},
   "outputs": [
    {
     "name": "stdout",
     "output_type": "stream",
     "text": [
      "1.2246467991473532e-16\n",
      "[-1.]\n",
      "3.141592653589793\n",
      "[1.]\n"
     ]
    }
   ],
   "source": [
    "#another example with a trignometric function, using the ADmath module\n",
    "\n",
    "x = ADnum(np.pi, der = [1]) # Step 1: initialize x, this time at pi\n",
    "f = ADmath.sin(x) # Step 2: create a function, using elementary functions from the ADmath module\n",
    "\n",
    "#Steps 3 and 4: Use the class attributes to access the value and derivative\n",
    "print(f.val) # should print 1.22e-16 due to floating point error in numpy implementation (should be 0)\n",
    "print(f.der) # should print -1.0\n",
    "print(x.val) # should print 3.14\n",
    "print(x.der) # should print 1"
   ]
  },
  {
   "cell_type": "markdown",
   "metadata": {},
   "source": [
    "Suppose we wanted to easily be able to access the value and derivative of a function at many different points.  As an alternative to the method for defining `f` in the previous two examples, we could define `f` as a python function:"
   ]
  },
  {
   "cell_type": "code",
   "execution_count": 5,
   "metadata": {},
   "outputs": [
    {
     "name": "stdout",
     "output_type": "stream",
     "text": [
      "3.718281828459045 [3.71828183]\n",
      "3.718281828459045 [3.71828183]\n"
     ]
    }
   ],
   "source": [
    "#example to easily access value and derivative at multiple points by defining f as a function\n",
    "def f(x):\n",
    "    return x + ADmath.exp(x)\n",
    "\n",
    "#get the value and derivative at 1\n",
    "y = ADnum(1, der = [1])\n",
    "print(f(y).val, f(y).der)\n",
    "\n",
    "#an alternate approach to get the value and derivative at 1\n",
    "print(f(ADnum(1, der = [1])).val, f(ADnum(1, der = [1])).der)"
   ]
  },
  {
   "cell_type": "markdown",
   "metadata": {},
   "source": [
    "Notice that in the above example, we required the natural exponential, an elementary function, to be used from the ADmath package, so that f may take as input and return an ADnum object."
   ]
  },
  {
   "cell_type": "markdown",
   "metadata": {},
   "source": [
    "### Newton's Method for a Scalar Valued Function\n",
    "One basic application of differentiation is Newton's method for finding roots of a function.  For demonstration of using our package for such an application, we will consider the function\n",
    "$$f(x) = x^2 + \\sin(x)$$\n",
    "which we know has a root at $x=0$.  The plot below also shows that the function has an additional root near -1."
   ]
  },
  {
   "cell_type": "code",
   "execution_count": 6,
   "metadata": {
    "scrolled": true
   },
   "outputs": [
    {
     "data": {
      "text/plain": [
       "Text(0.5, 1.0, 'Plot of f(x) Showing Two Roots')"
      ]
     },
     "execution_count": 6,
     "metadata": {},
     "output_type": "execute_result"
    },
    {
     "data": {
      "image/png": "[encoded data removed]",
      "text/plain": [
       "<Figure size 432x288 with 1 Axes>"
      ]
     },
     "metadata": {},
     "output_type": "display_data"
    }
   ],
   "source": [
    "import matplotlib.pyplot as plt\n",
    "%matplotlib inline\n",
    "\n",
    "x = np.linspace(-2.5, 2.55, 1000)\n",
    "f = x**2+np.sin(x)\n",
    "\n",
    "plt.plot(x, f, linewidth = 2)\n",
    "plt.plot(x, np.zeros((1000,)), '--')\n",
    "plt.xlabel('x', fontsize = 16)\n",
    "plt.ylabel('f(x)', fontsize = 16)\n",
    "plt.xticks(fontsize = 14)\n",
    "plt.yticks(fontsize =14)\n",
    "plt.title('Plot of f(x) Showing Two Roots', fontsize = 18)"
   ]
  },
  {
   "cell_type": "code",
   "execution_count": 7,
   "metadata": {},
   "outputs": [
    {
     "name": "stdout",
     "output_type": "stream",
     "text": [
      "Root found at: [1.20947143e-11]\n"
     ]
    }
   ],
   "source": [
    "#implementation of Newton's method using our AD package, without hardcoding the derivative\n",
    "\n",
    "#function that we wish to find the roots of\n",
    "def f(x):\n",
    "    return x**2+ADmath.sin(x)\n",
    "\n",
    "#Newton's method\n",
    "x = ADnum(1, der = [1]) #set an initial guess for the root\n",
    "\n",
    "for i in range(1000):\n",
    "    dx = -f(x).val/f(x).der #get change using ADnum attributes\n",
    "    if np.abs(dx) < .000001: #check if within some tolerance\n",
    "        print('Root found at: ' + str(x.val))\n",
    "        break\n",
    "    x = x+dx #update the guess\n",
    "\n"
   ]
  },
  {
   "cell_type": "markdown",
   "metadata": {},
   "source": [
    "In the above, we found the root at zero.  Using a different initialization point, we can find the other root of the function."
   ]
  },
  {
   "cell_type": "code",
   "execution_count": 8,
   "metadata": {},
   "outputs": [
    {
     "name": "stdout",
     "output_type": "stream",
     "text": [
      "Root found at: [-0.8767263]\n"
     ]
    }
   ],
   "source": [
    "y = ADnum(-1, der = [1]) #set an initial guess for the root\n",
    "\n",
    "for i in range(1000):\n",
    "    dy = -f(y).val/f(y).der #get change using ADnum attributes\n",
    "    if np.abs(dy) < .000001: #check if within some tolerance\n",
    "        print('Root found at: ' + str(y.val))\n",
    "        break\n",
    "    y = y+dy #update the guess"
   ]
  },
  {
   "cell_type": "markdown",
   "metadata": {},
   "source": [
    "## Functions of Multiple Inputs, Functions of Vector Valued Inputs, and Vector Valued Functions\n",
    "\n",
    "\n",
    "### Functions of Multiple Variables\n",
    "For a function with more than one input variable, the sequence is similar except when creating ADnum objects, the user must specify the total number of input variables, and the index of each variable in the gradient (so the the constructor of the ADnum class can correctly assign the derivative of the input variable with the appropriate seed vector):\n",
    "#### 1. initialize each variable to a specific value where the function should be evaluated\n",
    "-In addition to the value, the user must provide the number of inputs using the keyword argument `ins` and the index of the input variable being created using the keyword argument `ind`\n",
    "\n",
    "#### 2. return the gradient as a numpy array when `f.der` is called  \n",
    "-The gradient will be a numpy array, where `f.der[ind]` gives the partial derivative of f with respect to the variable created with the specified index `ind`."
   ]
  },
  {
   "cell_type": "code",
   "execution_count": 9,
   "metadata": {},
   "outputs": [
    {
     "name": "stdout",
     "output_type": "stream",
     "text": [
      "78.0\n",
      "[36. 54.]\n",
      "2.0\n",
      "[1. 0.]\n",
      "3.0\n",
      "[0. 1.]\n"
     ]
    }
   ],
   "source": [
    "# scalar function, multi variables\n",
    "x = ADnum(2, ins = 2, ind = 0)\n",
    "y = ADnum(3, ins = 2, ind = 1)\n",
    "f = 3 * x**3 + 2 * y**3\n",
    "print(f.val)\n",
    "print(f.der)\n",
    "print(x.val)\n",
    "print(x.der)\n",
    "print(y.val)\n",
    "print(y.der)"
   ]
  },
  {
   "cell_type": "markdown",
   "metadata": {},
   "source": [
    "### Vector-valued Functions\n",
    "Each component of a vector valued function is just a scalar valued function of one or more input variables.  Thus, we can easily combine the previous results to get the Jacobian of a vector valued function.  "
   ]
  },
  {
   "cell_type": "code",
   "execution_count": 10,
   "metadata": {},
   "outputs": [
    {
     "name": "stdout",
     "output_type": "stream",
     "text": [
      "4.0\n",
      "[4. 0.]\n",
      "5.0\n",
      "[1. 1.]\n",
      "12.0\n",
      "[0. 4.]\n"
     ]
    }
   ],
   "source": [
    "x = ADnum(2, ins = 2, ind = 0)\n",
    "y = ADnum(3, ins = 2, ind = 1)\n",
    "F = [x**2, x+y, 4*y] #define a vector valued function\n",
    "\n",
    "print(F[0].val)\n",
    "print(F[0].der) #derivative of the first component of F with respect to x and y\n",
    "print(F[1].val)\n",
    "print(F[1].der)\n",
    "print(F[2].val)\n",
    "print(F[2].der)\n"
   ]
  },
  {
   "cell_type": "markdown",
   "metadata": {},
   "source": [
    "### Functions of Vector Inputs\n",
    "For functions which take vectors as inputs, we can also define ADnum objects but by assigning the value as a list."
   ]
  },
  {
   "cell_type": "code",
   "execution_count": 11,
   "metadata": {},
   "outputs": [
    {
     "name": "stdout",
     "output_type": "stream",
     "text": [
      "[ 5.71828183 13.3890561  29.08553692]\n",
      "[ 5.71828183 10.3890561  23.08553692]\n",
      "[1. 2. 3.]\n",
      "[1. 1. 1.]\n"
     ]
    }
   ],
   "source": [
    "#function of a single vector\n",
    "X = ADnum([1, 2, 3], ins = 1, ind = 0)\n",
    "f = 3*X + ADmath.exp(X)\n",
    "\n",
    "print(f.val)\n",
    "print(f.der)\n",
    "print(X.val)\n",
    "print(X.der)"
   ]
  },
  {
   "cell_type": "code",
   "execution_count": 18,
   "metadata": {},
   "outputs": [
    {
     "name": "stdout",
     "output_type": "stream",
     "text": [
      "[5. 7. 7.]\n",
      "[[1. 1. 1.]\n",
      " [1. 1. 1.]]\n",
      "[1. 2. 1.]\n",
      "[[1. 1. 1.]\n",
      " [0. 0. 0.]]\n",
      "[4. 5. 6.]\n",
      "[[0. 0. 0.]\n",
      " [1. 1. 1.]]\n"
     ]
    }
   ],
   "source": [
    "#function of multiple vector inputs\n",
    "X = ADnum([1, 2, 1], ins = 2, ind = 0)\n",
    "Y = ADnum([4, 5, 6], ins =2, ind = 1)\n",
    "G = X + Y\n",
    "\n",
    "print(G.val)\n",
    "print(G.der)\n",
    "print(X.val)\n",
    "print(X.der)\n",
    "print(Y.val)\n",
    "print(Y.der)"
   ]
  },
  {
   "cell_type": "markdown",
   "metadata": {},
   "source": [
    "# Implementation of Automatic Differentiation\n",
    "Automatic differentiation is implemented through the use of `ADnum` objects, which have both a value and derivative as attributes.  We build the functions for which we want to take derivatives from these `ADnum` objects as well as the special elementary functions defined for `ADnum` objects in the `ADmath` module.  Each of these functions returns an `ADnum` object so has an associated value and derivative.\n",
    "\n",
    "Each of these attributes is either a scalar or a numpy array for ease of computation.  In the case of scalar input, the derivative is also a scalar.  For vector valued input, the derivative is the gradient of the function, stored as a numpy array.\n",
    "\n",
    "In order to build and store computational graphs in the ADgraph module, we use a dictionary to represent the graph, where the keys are the nodes of the graph, stored as `ADnum` objects, and the values associated with each key are the children of that node, stored as lists of tuples of the form (ADnum object, string), where the string describes the function that forms the edge for each node.\n",
    "\n",
    "### Implemented Methods [TO DO: reverse mode]\n",
    "The main class is the `ADnum` module, which is used to create `ADnum` objects.  It takes as input a single scalar input or a vector input (as a numpy array) and outputs an `ADnum` object.  The `ADnum` objects store the current value of the function and its derivative as attributes. \n",
    "\n",
    "These two attributes represent the two major functionalities desired of the class.  The `val` attribute is the ADnum object evaluated at the given value and the `der` attribute is its derivative at the given value. \n",
    "\n",
    "In addition to these basic attributes, ADnum objects also have a `constant` attribute, which is set to 0 or 1 depending on whether the object is a constant or variable.  This distinction is used in making computational graphs and tables, which also rely on the `graph` attribute.  This attribute is a dictionary containing key-value pairs of ADnum objects and lists of the ADnum objects that were combined to build the ADnum object (essentially using a dictionary to store a graph of nodes and edges). \n",
    "\n",
    "The constructor for this class, using variable keyword arguments to set the value and derivative appropriately,\n",
    "\n",
    "```python\n",
    "#ADnum.py\n",
    "class ADnum:\n",
    "    \"\"\" Class to create ADnum objects on which to perform differentiation.\n",
    "    ATTRIBUTES\n",
    "    ==========\n",
    "    val : scalar for scalar valued quantities or numpy array for vector valued functions, the value of the ADnum object for a set input value\n",
    "    der : scalar for sclar functions of a single variable or numpy array for functions of multiple variables the derivative \n",
    "    graph : dictionary containing the edges of the computational graph\n",
    "    constant : 0 or 1 indicating whether the ADnum object is constant\n",
    "    METHODS\n",
    "    =======\n",
    "    This class overloads the methods for basic arithmetic operations.\n",
    "    EXAMPLES\n",
    "    ========\n",
    "    # >>> x = ADnum(2, der = 1)\n",
    "    # >>> f = 2*x+3\n",
    "    # >>> print(f.val)\n",
    "    # 7.0\n",
    "    # >>> print(f.der)\n",
    "    # 2.0\n",
    "    \"\"\"\n",
    "    def __init__(self, value, **kwargs):\n",
    "        try:\n",
    "            scalarinput = (isinstance(value, int) or isinstance(value, float))\n",
    "            value = np.array(value)\n",
    "            value = value.astype(float)\n",
    "            if 'der' not in kwargs:\n",
    "                try:\n",
    "                    ins = kwargs['ins']\n",
    "                    ind = kwargs['ind']\n",
    "                    if scalarinput:\n",
    "                        der = np.zeros(ins)\n",
    "                        der[ind] = 1.0\n",
    "                    else:\n",
    "                        if ins>1:\n",
    "                            der = np.zeros((ins, len(value)))\n",
    "                            der[ind, :] = 1.0 #np.ones(len(value))\n",
    "                        else:\n",
    "                            der = np.ones(len(value))\n",
    "                except:\n",
    "                    raise KeyError('Must provide ins and ind if der not provided.')\n",
    "            else:\n",
    "                der = kwargs['der']\n",
    "                der = np.array(der)\n",
    "                der = der.astype(float)\n",
    "                if 'ins' in kwargs:\n",
    "                    ins = kwargs['ins']\n",
    "                    if len(der) != ins:\n",
    "                        raise ValueError('Shape of derivative does not match number of inputs.')\n",
    "        except:\n",
    "            raise ValueError('Value and derivative of ADnum object must be numeric.')\n",
    "        self.val = value\n",
    "        self.der = der\n",
    "        if 'graph' not in kwargs:\n",
    "            self.graph = {}\n",
    "        else:\n",
    "            self.graph = kwargs['graph']\n",
    "        if 'constant' not in kwargs:\n",
    "            self.constant = 0\n",
    "        else:\n",
    "            self.constant = kwargs['constant']\n",
    "```\n",
    "\n",
    "The `ADnum` class also includes methods to overload basic operations, __neg__(), __add__(), __radd__(), __mul__(), __rmul__(), __sub__(), __rsub__(), __truediv__(), __rtruediv__(), __pow__(), and __rpow__(). The result of overloading is that the adding, subtracting, multiplying, dividing, or exponentiating two `ADnum` objects returns an `ADnum` object as well as addition or multiplication by a constant.  For example, Y1, Y2, and Y3 are all recognized as `ADnum` objects:\n",
    "\n",
    "```python\n",
    "    X1= ADnum(7, der = 1)\n",
    "    X2 = ADnum(15, der = 1)\n",
    "    Y1 = X1 + X2\n",
    "    Y2 = X1 * X2 + X1\n",
    "    Y3 = 5 * X1 + X2 + 100\n",
    "```\n",
    "\n",
    "The resulting ADnum objects have both a value and derivative.  An example overloaded function is the following:\n",
    "\n",
    "\n",
    "```python\n",
    "#ADnum.py\n",
    "    def __mul__(self,other):\n",
    "        try:\n",
    "            graph = merge_dicts(self.graph, other.graph)\n",
    "            y = ADnum(self.val*other.val, der = self.val*other.der+self.der*other.val)\n",
    "            y.graph = graph\n",
    "            if self not in y.graph:\n",
    "                y.graph[self] = []\n",
    "            y.graph[self].append((y, 'multiply'))\n",
    "            if other not in y.graph:\n",
    "                y.graph[other] = []\n",
    "            y.graph[other].append((y, 'multiply'))\n",
    "            return y\n",
    "        except AttributeError:\n",
    "            other = ADnum(other*np.ones(np.shape(self.val)), der = np.zeros(np.shape(self.der)), constant = 1)\n",
    "            return self*other\n",
    "```\n",
    "\n",
    "By combining simple `ADnum` objects with basic operations and simple functions, we can construct any function we like.\n",
    "\n",
    "```python\n",
    "    X = ADnum(4, der = 1)\n",
    "    F = X + ADmath.sin(4 - X)\n",
    "```    \n",
    "Where F is now an `ADnum` object, and ADmath.sin() is a specially defined sine function which takes as input an `ADnum` object and returns an `ADnum` object, which allows us to evaluate F and its derivative,\n",
    "\n",
    "```python\n",
    "    F.val = 4\n",
    "    F.der = 0\n",
    "    X.val = 4\n",
    "    X.der = 1\n",
    "```\n",
    "\n",
    "In addition to the sine function used in the example above, the `ADmath` module also implements the trigonometric functions: `sin()`, `cos()`, `tan()`, `csc()`, `sec()`, `cot()`, the inverse trigonometric functions: `arcsin()`, `arccos()`, `arctan()`, the hyperbolic trig functions: `sinh()`, `cosh()`, `tanh()`, and the natural exponential `exp()` and natural logarithm `log()`.  For ease of use in teaching neural network applications, this module also contains the sigmoid (`sig()`) and `relu()` as common activation functions.  All of the functions defined in the `ADmath` module define elementary functions of `ADnum` objects, so that the output is also an `ADnum` object with the `val` and `der` attributes updated appropriately.  For example,\n",
    "\n",
    "```python\n",
    "#ADmath.py\n",
    "def sin(X):\n",
    "    try:\n",
    "        y = ADnum(np.sin(X.val), der = np.cos(X.val)*X.der)\n",
    "        y.graph = X.graph\n",
    "        if X not in y.graph:\n",
    "            y.graph[X] = []\n",
    "        y.graph[X].append((y, 'sin'))\n",
    "        return y\n",
    "    except AttributeError:\n",
    "        return np.sin(X)\n",
    "```\n",
    "\n",
    "We also implement a module `ADgraph`, for visualization of ADnum objects and the corresponding computational graphs and tables.  This class operates on ADnum objects by using the graph attribute.  The main methods are `draw_graph` which draws the computational graph used to compute the derivative, and `gen_table` which generates a table corresponding to the graph including the traces and values and derivatives of each trace.  The function `gen_graph` produces a `networkx` object from the dictionary stored in the `graph` attribute of the `ADnum` object, used for visualization.  We also use the method `reverse_graph` so that we have the ability to map nodes both to and from their parents.  This module also contains a number of utility functions for producing the graph (`get_labels`, `get_colors`, `get_sizes`).\n",
    "\n",
    "### External Dependencies\n",
    "In order to implement the elementary functions, our `ADmath` relies on `numpy`’s implementation of the trigonometric functions, exponential functions, and natural logarithms for evaluation of these special functions, as demonstrated in the definition of the sine function for `ADnum` objects above.\n",
    "\n",
    "For graph and web application creation, we used the `matplotlib`, `networkx`, `pandas`, and `flask` libraries. NetworkX is a Python package for the creation, manipulation, and study of the structure, dynamics, and functions of complex networks. Pandas is used for creating the computational tables.  Flask is an interface to build web applications in Python. "
   ]
  },
  {
   "cell_type": "markdown",
   "metadata": {},
   "source": [
    "## Web Application\n",
    "\n",
    "We used this process to create a pedagogical tool as a web application that can be used to help visualize the computational process that is used when combining different elementary operations and functions to compose more complicated functions and calculate the derivatives of these functions.   Such a tool could be useful in the classroom for teaching students how automatic differentiation works.  See the associated unit on [Read the Docs](https://auto-ed.readthedocs.io/en/latest/).\n",
    "\n",
    "The module `ADgraph` contains visualization tools for `ADnum` objects. For every operation we create an additional `ADnum` object which becomes a node in our graph, representing another trace in the program, where the edge labels display the corresponding operation.  Correspondingly, we also develop the functionality to display a table showing the trace, elementary operation, value, and derivative at each step. \n",
    "\n",
    "Beyond the basic functionality of forward mode, this required modifying all of our methods to correctly add to the dictionary which contains the computational graph information for each operation that we have previously overloaded in addition to the functions for visualizing.\n",
    "\n",
    "The following expamples demonstrate each of the three main visualization tools and describe how to use them."
   ]
  },
  {
   "cell_type": "markdown",
   "metadata": {},
   "source": [
    "#### Visualizing Forward Computational Graphs\n",
    "The function `draw_graph` takes an `ADnum` object as input and outputs a plot of the computational graph.  The graph is color coded to help the user better interpret the graph (magenta nodes represent the input variables, a green node represents the output, red nodes are used for intermediate traces, and blue nodes represent constants).  Each edge is labelled according to the elementary operation that connects the nodes.  The computational graph can be used for single or multiple inputs.  We can compare the following computer generated graph to the hand produced graph in section 2.2."
   ]
  },
  {
   "cell_type": "code",
   "execution_count": 15,
   "metadata": {},
   "outputs": [
    {
     "data": {
      "image/png": "[encoded data removed]",
      "text/plain": [
       "<Figure size 1440x720 with 1 Axes>"
      ]
     },
     "metadata": {},
     "output_type": "display_data"
    }
   ],
   "source": [
    "x = ADnum(1, ins =2, ind =0)\n",
    "y = ADnum(np.pi/5, ins = 2, ind = 1)\n",
    "f = x**3+ADmath.sin(5*y)\n",
    "\n",
    "fig3 = ADgraph.draw_graph(f)"
   ]
  },
  {
   "cell_type": "markdown",
   "metadata": {},
   "source": [
    "#### Generate the Corresponding Forward Computational Table\n",
    "The function `gen_table` takes an `ADnum` object as input and outputs a table of the computational traces.  Labels correspond to the graph that was generated to improve the connection between the numeric computations and visual connections.  As with the computational graph, this can be used for functions of single or multiple variables. "
   ]
  },
  {
   "cell_type": "code",
   "execution_count": 16,
   "metadata": {},
   "outputs": [
    {
     "name": "stderr",
     "output_type": "stream",
     "text": [
      "C:\\Users\\Lindsey\\Documents\\lindsey\\Harvard G4\\FallSemester\\CS207Teaching\\Auto-eD\\ADgraph.py:490: SettingWithCopyWarning: \n",
      "A value is trying to be set on a copy of a slice from a DataFrame\n",
      "\n",
      "See the caveats in the documentation: http://pandas.pydata.org/pandas-docs/stable/indexing.html#indexing-view-versus-copy\n",
      "  result['Number'][i] = len(result['Trace'])+1\n",
      "C:\\Users\\Lindsey\\Documents\\lindsey\\Harvard G4\\FallSemester\\CS207Teaching\\Auto-eD\\ADgraph.py:488: SettingWithCopyWarning: \n",
      "A value is trying to be set on a copy of a slice from a DataFrame\n",
      "\n",
      "See the caveats in the documentation: http://pandas.pydata.org/pandas-docs/stable/indexing.html#indexing-view-versus-copy\n",
      "  result['Number'][i] = int(name[1:])\n",
      "C:\\Users\\Lindsey\\Documents\\lindsey\\Harvard G4\\FallSemester\\CS207Teaching\\Auto-eD\\ADgraph.py:486: SettingWithCopyWarning: \n",
      "A value is trying to be set on a copy of a slice from a DataFrame\n",
      "\n",
      "See the caveats in the documentation: http://pandas.pydata.org/pandas-docs/stable/indexing.html#indexing-view-versus-copy\n",
      "  result['Number'][i] = int(name[1:])-2*len(result['Trace'])\n"
     ]
    },
    {
     "data": {
      "text/html": [
       "<div>\n",
       "<style scoped>\n",
       "    .dataframe tbody tr th:only-of-type {\n",
       "        vertical-align: middle;\n",
       "    }\n",
       "\n",
       "    .dataframe tbody tr th {\n",
       "        vertical-align: top;\n",
       "    }\n",
       "\n",
       "    .dataframe thead th {\n",
       "        text-align: right;\n",
       "    }\n",
       "</style>\n",
       "<table border=\"1\" class=\"dataframe\">\n",
       "  <thead>\n",
       "    <tr style=\"text-align: right;\">\n",
       "      <th></th>\n",
       "      <th>Trace</th>\n",
       "      <th>Operation</th>\n",
       "      <th>Value</th>\n",
       "      <th>Derivative</th>\n",
       "    </tr>\n",
       "  </thead>\n",
       "  <tbody>\n",
       "    <tr>\n",
       "      <th>5</th>\n",
       "      <td>X0</td>\n",
       "      <td>input</td>\n",
       "      <td>1.0</td>\n",
       "      <td>[1.0, 0.0]</td>\n",
       "    </tr>\n",
       "    <tr>\n",
       "      <th>3</th>\n",
       "      <td>X1</td>\n",
       "      <td>input</td>\n",
       "      <td>0.6283185307179586</td>\n",
       "      <td>[0.0, 1.0]</td>\n",
       "    </tr>\n",
       "    <tr>\n",
       "      <th>2</th>\n",
       "      <td>V1</td>\n",
       "      <td>multiply(X1 , 5.0)</td>\n",
       "      <td>3.141592653589793</td>\n",
       "      <td>[0.0, 5.0]</td>\n",
       "    </tr>\n",
       "    <tr>\n",
       "      <th>1</th>\n",
       "      <td>V2</td>\n",
       "      <td>sin(V1)</td>\n",
       "      <td>1.2246467991473532e-16</td>\n",
       "      <td>[-0.0, -5.0]</td>\n",
       "    </tr>\n",
       "    <tr>\n",
       "      <th>4</th>\n",
       "      <td>V3</td>\n",
       "      <td>pow(X0 , 3.0)</td>\n",
       "      <td>1.0</td>\n",
       "      <td>[3.0, 0.0]</td>\n",
       "    </tr>\n",
       "    <tr>\n",
       "      <th>0</th>\n",
       "      <td>f</td>\n",
       "      <td>add(V3 , V2)</td>\n",
       "      <td>1.0000000000000002</td>\n",
       "      <td>[3.0, -5.0]</td>\n",
       "    </tr>\n",
       "  </tbody>\n",
       "</table>\n",
       "</div>"
      ],
      "text/plain": [
       "  Trace           Operation                   Value    Derivative\n",
       "5    X0               input                     1.0    [1.0, 0.0]\n",
       "3    X1               input      0.6283185307179586    [0.0, 1.0]\n",
       "2    V1  multiply(X1 , 5.0)       3.141592653589793    [0.0, 5.0]\n",
       "1    V2             sin(V1)  1.2246467991473532e-16  [-0.0, -5.0]\n",
       "4    V3       pow(X0 , 3.0)                     1.0    [3.0, 0.0]\n",
       "0     f        add(V3 , V2)      1.0000000000000002   [3.0, -5.0]"
      ]
     },
     "execution_count": 16,
     "metadata": {},
     "output_type": "execute_result"
    }
   ],
   "source": [
    "ADgraph.gen_table(f)"
   ]
  },
  {
   "cell_type": "markdown",
   "metadata": {
    "collapsed": true
   },
   "source": [
    "####  Visualizing Reverse Mode\n",
    "TO DO"
   ]
  },
  {
   "cell_type": "markdown",
   "metadata": {
    "collapsed": true
   },
   "source": [
    "## Future Work\n",
    "TO DO\n",
    "\n",
    "To contribute to this work, TO DO"
   ]
  },
  {
   "cell_type": "code",
   "execution_count": null,
   "metadata": {
    "collapsed": true
   },
   "outputs": [],
   "source": []
  }
 ],
 "metadata": {
  "kernelspec": {
   "display_name": "Python 3",
   "language": "python",
   "name": "python3"
  },
  "language_info": {
   "codemirror_mode": {
    "name": "ipython",
    "version": 3
   },
   "file_extension": ".py",
   "mimetype": "text/x-python",
   "name": "python",
   "nbconvert_exporter": "python",
   "pygments_lexer": "ipython3",
   "version": "3.6.6"
  }
 },
 "nbformat": 4,
 "nbformat_minor": 2
}
